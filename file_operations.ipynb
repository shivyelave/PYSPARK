{
 "cells": [
  {
   "cell_type": "markdown",
   "metadata": {},
   "source": [
    "'''\n",
    "<br><br>\n",
    "\n",
    "@Author: Shivraj Yelave<br>\n",
    "@Date: 04-09-24<br>\n",
    "@Last modified by: Shivraj Yelave<br>\n",
    "@Last modified date: 04-09-24<br>\n",
    "@Title: File read and write operations using pyspark <br>\n",
    "<br><br>\n",
    "\n",
    "'''"
   ]
  },
  {
   "cell_type": "markdown",
   "metadata": {},
   "source": [
    "## Read write operations using different file formats (parquet , avro , csv , json , text )\n"
   ]
  },
  {
   "cell_type": "markdown",
   "metadata": {},
   "source": [
    "## CSV to Parquet\n"
   ]
  },
  {
   "cell_type": "code",
   "execution_count": 2,
   "metadata": {},
   "outputs": [],
   "source": [
    "from pyspark.sql import SparkSession\n",
    "\n",
    "# Initialize Spark Session\n",
    "spark = SparkSession.builder \\\n",
    "    .appName(\"FileFormatConversion csv to parquet\") \\\n",
    "    .getOrCreate()\n",
    "\n",
    "# Read CSV file into DataFrame\n",
    "csv_df = spark.read.csv(\"file:///C:/Users/Admin/Documents/pyspark/PYSPARK/input.csv\", header=True, inferSchema=True)\n",
    "\n",
    "# Write DataFrame as Parquet file\n",
    "csv_df.write.parquet(\"file:///C:/Users/Admin/Documents/pyspark/PYSPARK/parquet_output\")\n",
    "\n",
    "# Stop Spark session\n",
    "spark.stop()\n"
   ]
  },
  {
   "cell_type": "markdown",
   "metadata": {},
   "source": [
    "## Text to JSON"
   ]
  },
  {
   "cell_type": "code",
   "execution_count": 23,
   "metadata": {},
   "outputs": [
    {
     "name": "stdout",
     "output_type": "stream",
     "text": [
      "+-----------------------------+\n",
      "|value                        |\n",
      "+-----------------------------+\n",
      "|{\"name\": \"Shiv\", \"age\": 21}  |\n",
      "|{\"name\": \"Deven\", \"age\": 22} |\n",
      "|{\"name\": \"Prayag\", \"age\": 22}|\n",
      "|{\"name\": \"Ayush\", \"age\": 22} |\n",
      "+-----------------------------+\n",
      "\n"
     ]
    }
   ],
   "source": [
    "from pyspark.sql import SparkSession\n",
    "from pyspark.sql.functions import col\n",
    "\n",
    "# Initialize Spark Session\n",
    "spark = SparkSession.builder \\\n",
    "    .appName(\"TextToJSON\") \\\n",
    "    .getOrCreate()\n",
    "\n",
    "# Read text file into DataFrame\n",
    "# Assumes each line in the text file is a record\n",
    "text_df = spark.read.text(\"file:///C:/Users/Admin/Documents/pyspark/PYSPARK/text_input.txt\")\n",
    "\n",
    "# Show the DataFrame to understand its structure\n",
    "text_df.show(truncate=False)\n",
    "\n",
    "# Assuming each line in the text file is a string that needs to be converted to JSON\n",
    "# For demonstration, we'll assume each line is a plain string and we'll convert it to a JSON object with a single field \"text\"\n",
    "# Adjust this part if your text file has a different structure or delimiter\n",
    "\n",
    "# Transform each line into a JSON object\n",
    "json_df = text_df.withColumn(\"json\", col(\"value\"))  # 'value' contains the text data\n",
    "\n",
    "# Drop the original 'value' column if no longer needed\n",
    "json_df = json_df.drop(\"value\")\n",
    "\n",
    "# Write DataFrame as JSON file\n",
    "json_df.write.mode(\"overwrite\").json(\"file:///C:/Users/Admin/Documents/pyspark/PYSPARK/json_output\")\n",
    "\n",
    "# Stop Spark session\n",
    "spark.stop()\n"
   ]
  }
 ],
 "metadata": {
  "kernelspec": {
   "display_name": "Python 3",
   "language": "python",
   "name": "python3"
  },
  "language_info": {
   "codemirror_mode": {
    "name": "ipython",
    "version": 3
   },
   "file_extension": ".py",
   "mimetype": "text/x-python",
   "name": "python",
   "nbconvert_exporter": "python",
   "pygments_lexer": "ipython3",
   "version": "3.8.10"
  }
 },
 "nbformat": 4,
 "nbformat_minor": 2
}
