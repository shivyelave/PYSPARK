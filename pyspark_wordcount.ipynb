{
 "cells": [
  {
   "cell_type": "markdown",
   "metadata": {},
   "source": [
    "'''\n",
    "\n",
    "\n",
    "\n",
    "    @Author: Shivraj Yelave\n",
    "    @Date: 02-09-24\n",
    "    @Last modified by: Shivraj Yelave\n",
    "    @Last modified time: \n",
    "    @Title: Wordcount using pyspark\n",
    "\n",
    "\n",
    "\n",
    "'''"
   ]
  },
  {
   "cell_type": "code",
   "execution_count": 1,
   "metadata": {},
   "outputs": [],
   "source": [
    "#import required modules\n",
    "from pyspark.sql import SparkSession\n"
   ]
  },
  {
   "cell_type": "code",
   "execution_count": 12,
   "metadata": {},
   "outputs": [
    {
     "name": "stdout",
     "output_type": "stream",
     "text": [
      "+----------+-----+\n",
      "|      word|count|\n",
      "+----------+-----+\n",
      "|      love|    1|\n",
      "|   amazing|    1|\n",
      "|        is|    1|\n",
      "|     makes|    1|\n",
      "|      data|    1|\n",
      "|   PySpark|    1|\n",
      "|      easy|    1|\n",
      "|         I|    1|\n",
      "|     Spark|    2|\n",
      "|processing|    1|\n",
      "+----------+-----+\n",
      "\n"
     ]
    }
   ],
   "source": [
    "from pyspark.sql import SparkSession\n",
    "from pyspark.sql.functions import explode, split, col\n",
    "\n",
    "# Initialize Spark Session\n",
    "spark = SparkSession.builder \\\n",
    "    .appName(\"WordCount\") \\\n",
    "    .getOrCreate()\n",
    "\n",
    "# Path to your JSON file\n",
    "json_file_path = \"file:///C:/Users/Admin/Documents/pyspark/PYSPARK/text.json\"\n",
    "\n",
    "# Read JSON file into DataFrame with schema\n",
    "df = spark.read.json(json_file_path)\n",
    "\n",
    "# Split the text into words and explode the words into separate rows\n",
    "words_df = df.select(explode(split(col(\"text\"), \" \")).alias(\"word\"))\n",
    "\n",
    "# Group by the word and count occurrences\n",
    "word_count_df = words_df.groupBy(\"word\").count()\n",
    "\n",
    "# Show the word counts\n",
    "word_count_df.show()\n",
    "\n",
    "# Stop the Spark session\n",
    "spark.stop()\n"
   ]
  }
 ],
 "metadata": {
  "kernelspec": {
   "display_name": "Python 3",
   "language": "python",
   "name": "python3"
  },
  "language_info": {
   "codemirror_mode": {
    "name": "ipython",
    "version": 3
   },
   "file_extension": ".py",
   "mimetype": "text/x-python",
   "name": "python",
   "nbconvert_exporter": "python",
   "pygments_lexer": "ipython3",
   "version": "3.8.10"
  }
 },
 "nbformat": 4,
 "nbformat_minor": 2
}
